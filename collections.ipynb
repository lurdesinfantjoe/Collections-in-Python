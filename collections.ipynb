{
 "cells": [
  {
   "cell_type": "markdown",
   "id": "b4fdd86b",
   "metadata": {},
   "source": [
    "### STRING"
   ]
  },
  {
   "cell_type": "code",
   "execution_count": 5,
   "id": "18ec9cd7",
   "metadata": {},
   "outputs": [
    {
     "data": {
      "text/plain": [
       "'e'"
      ]
     },
     "execution_count": 5,
     "metadata": {},
     "output_type": "execute_result"
    }
   ],
   "source": [
    "a=\"electronics and communication\"\n",
    "a[0]"
   ]
  },
  {
   "cell_type": "code",
   "execution_count": 2,
   "id": "61d33f5b",
   "metadata": {},
   "outputs": [
    {
     "data": {
      "text/plain": [
       "'electronics and communication'"
      ]
     },
     "execution_count": 2,
     "metadata": {},
     "output_type": "execute_result"
    }
   ],
   "source": [
    "a[:]"
   ]
  },
  {
   "cell_type": "code",
   "execution_count": 3,
   "id": "d329f946",
   "metadata": {},
   "outputs": [
    {
     "data": {
      "text/plain": [
       "'nics a'"
      ]
     },
     "execution_count": 3,
     "metadata": {},
     "output_type": "execute_result"
    }
   ],
   "source": [
    "a[7:13]"
   ]
  },
  {
   "cell_type": "code",
   "execution_count": 4,
   "id": "a21ba5bb",
   "metadata": {},
   "outputs": [
    {
     "data": {
      "text/plain": [
       "'lectronics and communicatio'"
      ]
     },
     "execution_count": 4,
     "metadata": {},
     "output_type": "execute_result"
    }
   ],
   "source": [
    "a[1:-1]\n"
   ]
  },
  {
   "cell_type": "code",
   "execution_count": 5,
   "id": "4bfb706b",
   "metadata": {},
   "outputs": [
    {
     "data": {
      "text/plain": [
       "'electronics and communication'"
      ]
     },
     "execution_count": 5,
     "metadata": {},
     "output_type": "execute_result"
    }
   ],
   "source": [
    "a[:len(a)]"
   ]
  },
  {
   "cell_type": "code",
   "execution_count": 6,
   "id": "7331229c",
   "metadata": {},
   "outputs": [
    {
     "data": {
      "text/plain": [
       "'i'"
      ]
     },
     "execution_count": 6,
     "metadata": {},
     "output_type": "execute_result"
    }
   ],
   "source": [
    "a[::1][-3]"
   ]
  },
  {
   "cell_type": "code",
   "execution_count": 7,
   "id": "4b844c71",
   "metadata": {},
   "outputs": [
    {
     "data": {
      "text/plain": [
       "'ELECTRONICS AND COMMUNICATION'"
      ]
     },
     "execution_count": 7,
     "metadata": {},
     "output_type": "execute_result"
    }
   ],
   "source": [
    "#returns the given str in upper case\n",
    "a.upper()"
   ]
  },
  {
   "cell_type": "code",
   "execution_count": 8,
   "id": "9d7c1ad9",
   "metadata": {},
   "outputs": [
    {
     "data": {
      "text/plain": [
       "'electronics and communication'"
      ]
     },
     "execution_count": 8,
     "metadata": {},
     "output_type": "execute_result"
    }
   ],
   "source": [
    "#returns the given str in lower case\n",
    "a.lower()"
   ]
  },
  {
   "cell_type": "code",
   "execution_count": 10,
   "id": "7ac2f13d",
   "metadata": {},
   "outputs": [
    {
     "data": {
      "text/plain": [
       "'Electronics and communication'"
      ]
     },
     "execution_count": 10,
     "metadata": {},
     "output_type": "execute_result"
    }
   ],
   "source": [
    "#returns the str in capitalised form\n",
    "a.capitalize()"
   ]
  },
  {
   "cell_type": "code",
   "execution_count": 16,
   "id": "a6517296",
   "metadata": {},
   "outputs": [
    {
     "data": {
      "text/plain": [
       "29"
      ]
     },
     "execution_count": 16,
     "metadata": {},
     "output_type": "execute_result"
    }
   ],
   "source": [
    "#It returns the length of the str\n",
    "len(a)\n"
   ]
  },
  {
   "cell_type": "code",
   "execution_count": 18,
   "id": "3772652b",
   "metadata": {},
   "outputs": [
    {
     "data": {
      "text/plain": [
       "'Electronics And Communication'"
      ]
     },
     "execution_count": 18,
     "metadata": {},
     "output_type": "execute_result"
    }
   ],
   "source": [
    "#coverts the str in title \n",
    "a.title()"
   ]
  },
  {
   "cell_type": "code",
   "execution_count": 19,
   "id": "9c109eab",
   "metadata": {},
   "outputs": [
    {
     "data": {
      "text/plain": [
       "'electronics and electrical'"
      ]
     },
     "execution_count": 19,
     "metadata": {},
     "output_type": "execute_result"
    }
   ],
   "source": [
    "#replacing the given str\n",
    "a.replace(\"communication\",\"electrical\")"
   ]
  },
  {
   "cell_type": "code",
   "execution_count": 8,
   "id": "75c65035",
   "metadata": {},
   "outputs": [
    {
     "data": {
      "text/plain": [
       "'e5l5e5c5t5r5o5n5i5c5s5 5a5n5d5 5c5o5m5m5u5n5i5c5a5t5i5o5n'"
      ]
     },
     "execution_count": 8,
     "metadata": {},
     "output_type": "execute_result"
    }
   ],
   "source": [
    "b=\"5\"\n",
    "b.join(a)"
   ]
  },
  {
   "cell_type": "code",
   "execution_count": 2,
   "id": "e28cdac9",
   "metadata": {},
   "outputs": [
    {
     "data": {
      "text/plain": [
       "' python*for*data*science'"
      ]
     },
     "execution_count": 2,
     "metadata": {},
     "output_type": "execute_result"
    }
   ],
   "source": [
    "#It removes the white trailing spaces  \n",
    "c=\"   python*for*data*science**\"\n",
    "c.strip(\"*\")"
   ]
  },
  {
   "cell_type": "code",
   "execution_count": 3,
   "id": "f8a22504",
   "metadata": {},
   "outputs": [
    {
     "data": {
      "text/plain": [
       "' python*for*data*science'"
      ]
     },
     "execution_count": 3,
     "metadata": {},
     "output_type": "execute_result"
    }
   ],
   "source": [
    "#It removes the right white trailing spaces \n",
    "c.rstrip(\"*\")"
   ]
  },
  {
   "cell_type": "code",
   "execution_count": 28,
   "id": "59220edf",
   "metadata": {},
   "outputs": [
    {
     "data": {
      "text/plain": [
       "'python*for*data*science'"
      ]
     },
     "execution_count": 28,
     "metadata": {},
     "output_type": "execute_result"
    }
   ],
   "source": [
    "#It removes the white trailing spaces in the left side\n",
    "c.lstrip(\"*\")"
   ]
  },
  {
   "cell_type": "code",
   "execution_count": 29,
   "id": "3e7bc155",
   "metadata": {},
   "outputs": [
    {
     "data": {
      "text/plain": [
       "'09-03-20'"
      ]
     },
     "execution_count": 29,
     "metadata": {},
     "output_type": "execute_result"
    }
   ],
   "source": [
    "date=\"09\",\"03\",\"20\"\n",
    "sep='-'\n",
    "sep.join(date)"
   ]
  },
  {
   "cell_type": "code",
   "execution_count": 7,
   "id": "b7aa60b0",
   "metadata": {},
   "outputs": [
    {
     "data": {
      "text/plain": [
       "'ELECTRONICS AND COMMUNICATION'"
      ]
     },
     "execution_count": 7,
     "metadata": {},
     "output_type": "execute_result"
    }
   ],
   "source": [
    "a.swapcase()\n",
    "#converting lower case to upper case "
   ]
  },
  {
   "cell_type": "markdown",
   "id": "e4af580a",
   "metadata": {},
   "source": [
    "### LIST"
   ]
  },
  {
   "cell_type": "code",
   "execution_count": 32,
   "id": "70c8316a",
   "metadata": {},
   "outputs": [
    {
     "data": {
      "text/plain": [
       "[2, 'joe', 'age']"
      ]
     },
     "execution_count": 32,
     "metadata": {},
     "output_type": "execute_result"
    }
   ],
   "source": [
    "a=['name','joe','age',19]\n",
    "a[1:]\n",
    "#indexing"
   ]
  },
  {
   "cell_type": "code",
   "execution_count": 33,
   "id": "f7e8b11a",
   "metadata": {},
   "outputs": [
    {
     "name": "stdout",
     "output_type": "stream",
     "text": [
      "[1, 2, 'joe', 'age', 'clg', 'cit', 'dept', 'ece']\n"
     ]
    }
   ],
   "source": [
    "b=['clg','cit','dept','ece']\n",
    "c=a+b\n",
    "print(c)\n",
    "#concatenation of the string"
   ]
  },
  {
   "cell_type": "code",
   "execution_count": 38,
   "id": "921b1d9d",
   "metadata": {},
   "outputs": [
    {
     "name": "stdout",
     "output_type": "stream",
     "text": [
      "[1, 2, 'joe', 'age', 'dayscholar', 'dayscholar', 'dayscholar']\n"
     ]
    }
   ],
   "source": [
    "a.append('dayscholar',)\n",
    "print(a)\n",
    "#append"
   ]
  },
  {
   "cell_type": "code",
   "execution_count": 39,
   "id": "d9dd90b1",
   "metadata": {
    "scrolled": true
   },
   "outputs": [
    {
     "ename": "TypeError",
     "evalue": "'<' not supported between instances of 'str' and 'int'",
     "output_type": "error",
     "traceback": [
      "\u001b[1;31m---------------------------------------------------------------------------\u001b[0m",
      "\u001b[1;31mTypeError\u001b[0m                                 Traceback (most recent call last)",
      "\u001b[1;32m<ipython-input-39-2ed0d7de6146>\u001b[0m in \u001b[0;36m<module>\u001b[1;34m\u001b[0m\n\u001b[1;32m----> 1\u001b[1;33m \u001b[0ma\u001b[0m\u001b[1;33m.\u001b[0m\u001b[0msort\u001b[0m\u001b[1;33m(\u001b[0m\u001b[1;33m)\u001b[0m\u001b[1;33m\u001b[0m\u001b[1;33m\u001b[0m\u001b[0m\n\u001b[0m",
      "\u001b[1;31mTypeError\u001b[0m: '<' not supported between instances of 'str' and 'int'"
     ]
    }
   ],
   "source": [
    "a.sort()"
   ]
  },
  {
   "cell_type": "code",
   "execution_count": 45,
   "id": "3bbafead",
   "metadata": {},
   "outputs": [
    {
     "name": "stdout",
     "output_type": "stream",
     "text": [
      "[45, 45, 23, 42, 33]\n"
     ]
    }
   ],
   "source": [
    "d=[45,45,23,42,33]\n",
    "print(d)\n",
    "#just print the element"
   ]
  },
  {
   "cell_type": "code",
   "execution_count": 48,
   "id": "1e2e932e",
   "metadata": {},
   "outputs": [
    {
     "name": "stdout",
     "output_type": "stream",
     "text": [
      "[23, 33, 42, 45, 45]\n"
     ]
    }
   ],
   "source": [
    "d.sort()\n",
    "print(d)\n",
    "#sorting the elements in  the list"
   ]
  },
  {
   "cell_type": "code",
   "execution_count": 49,
   "id": "af753842",
   "metadata": {},
   "outputs": [
    {
     "name": "stdout",
     "output_type": "stream",
     "text": [
      "[23, 33, 42, 45, 45]\n"
     ]
    }
   ],
   "source": [
    "f=sorted(d)\n",
    "print(f)\n",
    "#sorted"
   ]
  },
  {
   "cell_type": "code",
   "execution_count": 53,
   "id": "7ab332e7",
   "metadata": {},
   "outputs": [
    {
     "name": "stdout",
     "output_type": "stream",
     "text": [
      "[23, 33, 42, 45, 45]\n"
     ]
    }
   ],
   "source": [
    "E=d.copy()\n",
    "print(E)\n",
    "#copying the copy of a listvto the desired variaable"
   ]
  },
  {
   "cell_type": "code",
   "execution_count": 54,
   "id": "054de4c0",
   "metadata": {},
   "outputs": [
    {
     "data": {
      "text/plain": [
       "23"
      ]
     },
     "execution_count": 54,
     "metadata": {},
     "output_type": "execute_result"
    }
   ],
   "source": [
    "min(d)\n",
    "#min value from list"
   ]
  },
  {
   "cell_type": "code",
   "execution_count": 55,
   "id": "d6200351",
   "metadata": {},
   "outputs": [
    {
     "data": {
      "text/plain": [
       "45"
      ]
     },
     "execution_count": 55,
     "metadata": {},
     "output_type": "execute_result"
    }
   ],
   "source": [
    "max(d)\n",
    "#max value from list"
   ]
  },
  {
   "cell_type": "code",
   "execution_count": 59,
   "id": "bbf7629c",
   "metadata": {},
   "outputs": [
    {
     "data": {
      "text/plain": [
       "[23, 33, 42, 45]"
      ]
     },
     "execution_count": 59,
     "metadata": {},
     "output_type": "execute_result"
    }
   ],
   "source": [
    "#indexing\n",
    "d[:-1]\n"
   ]
  },
  {
   "cell_type": "code",
   "execution_count": 60,
   "id": "b055e758",
   "metadata": {},
   "outputs": [
    {
     "data": {
      "text/plain": [
       "2"
      ]
     },
     "execution_count": 60,
     "metadata": {},
     "output_type": "execute_result"
    }
   ],
   "source": [
    "d.count(45)\n",
    "#count the duplicates in the list"
   ]
  },
  {
   "cell_type": "code",
   "execution_count": 61,
   "id": "7f8f6220",
   "metadata": {},
   "outputs": [
    {
     "data": {
      "text/plain": [
       "5"
      ]
     },
     "execution_count": 61,
     "metadata": {},
     "output_type": "execute_result"
    }
   ],
   "source": [
    "len(d)\n",
    "#returns the length of the list "
   ]
  },
  {
   "cell_type": "code",
   "execution_count": 63,
   "id": "ded1cdc0",
   "metadata": {},
   "outputs": [
    {
     "data": {
      "text/plain": [
       "[45, 45, 42, 33, 23]"
      ]
     },
     "execution_count": 63,
     "metadata": {},
     "output_type": "execute_result"
    }
   ],
   "source": [
    "d[::-1]\n",
    "#reversing the list"
   ]
  },
  {
   "cell_type": "code",
   "execution_count": 68,
   "id": "8e183137",
   "metadata": {},
   "outputs": [
    {
     "name": "stdout",
     "output_type": "stream",
     "text": [
      "[65, 65, 23, 33, 42, 45, 45]\n"
     ]
    }
   ],
   "source": [
    "d.insert(0,65)\n",
    "print(d)\n",
    "#insert the element to the specified index vslue "
   ]
  },
  {
   "cell_type": "code",
   "execution_count": 73,
   "id": "09cf9dd7",
   "metadata": {},
   "outputs": [
    {
     "name": "stdout",
     "output_type": "stream",
     "text": [
      "[23, 33, 42, 45, 45]\n"
     ]
    }
   ],
   "source": [
    "d.remove(65)\n",
    "print(d)\n",
    "#remove the specified element"
   ]
  },
  {
   "cell_type": "code",
   "execution_count": 76,
   "id": "9354dc93",
   "metadata": {},
   "outputs": [
    {
     "name": "stdout",
     "output_type": "stream",
     "text": [
      "[42, 45]\n"
     ]
    }
   ],
   "source": [
    "d.pop(1)\n",
    "print(d)\n",
    "#pop method removes the element till the end of the index value"
   ]
  },
  {
   "cell_type": "code",
   "execution_count": 77,
   "id": "b61bf023",
   "metadata": {},
   "outputs": [
    {
     "name": "stdout",
     "output_type": "stream",
     "text": [
      "[42, 45, 24, 21, 20]\n"
     ]
    }
   ],
   "source": [
    "a=[24,21,20]\n",
    "d.extend(a)\n",
    "print(d)\n",
    "#extend method just add the elements to the end of the list"
   ]
  },
  {
   "cell_type": "markdown",
   "id": "d4dc487b",
   "metadata": {},
   "source": [
    "### TUPLE"
   ]
  },
  {
   "cell_type": "code",
   "execution_count": 88,
   "id": "17da3e67",
   "metadata": {},
   "outputs": [
    {
     "name": "stdout",
     "output_type": "stream",
     "text": [
      "(1, 2, 3, 4)\n"
     ]
    },
    {
     "data": {
      "text/plain": [
       "tuple"
      ]
     },
     "execution_count": 88,
     "metadata": {},
     "output_type": "execute_result"
    }
   ],
   "source": [
    "a=(1,2,3,4)\n",
    "print(a)\n",
    "type(a)"
   ]
  },
  {
   "cell_type": "code",
   "execution_count": 89,
   "id": "ef393989",
   "metadata": {},
   "outputs": [
    {
     "data": {
      "text/plain": [
       "1"
      ]
     },
     "execution_count": 89,
     "metadata": {},
     "output_type": "execute_result"
    }
   ],
   "source": [
    "min(a)"
   ]
  },
  {
   "cell_type": "code",
   "execution_count": 90,
   "id": "d6cfb7fb",
   "metadata": {},
   "outputs": [
    {
     "data": {
      "text/plain": [
       "4"
      ]
     },
     "execution_count": 90,
     "metadata": {},
     "output_type": "execute_result"
    }
   ],
   "source": [
    "max(a)\n"
   ]
  },
  {
   "cell_type": "code",
   "execution_count": 91,
   "id": "d2f4e67c",
   "metadata": {},
   "outputs": [
    {
     "data": {
      "text/plain": [
       "(1, 2, 3, 4)"
      ]
     },
     "execution_count": 91,
     "metadata": {},
     "output_type": "execute_result"
    }
   ],
   "source": [
    "a[0:]"
   ]
  },
  {
   "cell_type": "code",
   "execution_count": 92,
   "id": "a370b299",
   "metadata": {},
   "outputs": [
    {
     "data": {
      "text/plain": [
       "(1, 2, 3)"
      ]
     },
     "execution_count": 92,
     "metadata": {},
     "output_type": "execute_result"
    }
   ],
   "source": [
    "a[:-1]"
   ]
  },
  {
   "cell_type": "code",
   "execution_count": 93,
   "id": "459d83b1",
   "metadata": {},
   "outputs": [
    {
     "data": {
      "text/plain": [
       "(1, 2)"
      ]
     },
     "execution_count": 93,
     "metadata": {},
     "output_type": "execute_result"
    }
   ],
   "source": [
    "a[:2]"
   ]
  },
  {
   "cell_type": "code",
   "execution_count": 94,
   "id": "8ad74f4b",
   "metadata": {},
   "outputs": [
    {
     "name": "stdout",
     "output_type": "stream",
     "text": [
      "(1, 2, 3, 4, 'age', 'clg', 18, 'cit')\n"
     ]
    }
   ],
   "source": [
    "#concatatition of tuple \n",
    "t1=(1,2,3,4)\n",
    "t2=(\"age\",'clg',18,'cit')\n",
    "t3=t1+t2\n",
    "print(t3)"
   ]
  },
  {
   "cell_type": "code",
   "execution_count": 95,
   "id": "27e8e151",
   "metadata": {},
   "outputs": [
    {
     "data": {
      "text/plain": [
       "4"
      ]
     },
     "execution_count": 95,
     "metadata": {},
     "output_type": "execute_result"
    }
   ],
   "source": [
    "len(a)\n",
    "#lenght of the tuple"
   ]
  },
  {
   "cell_type": "code",
   "execution_count": 97,
   "id": "de047887",
   "metadata": {},
   "outputs": [
    {
     "name": "stdout",
     "output_type": "stream",
     "text": [
      "True\n"
     ]
    }
   ],
   "source": [
    "print(1 in a)\n",
    "#membership operator"
   ]
  },
  {
   "cell_type": "code",
   "execution_count": 98,
   "id": "5b4238d3",
   "metadata": {},
   "outputs": [
    {
     "name": "stdout",
     "output_type": "stream",
     "text": [
      "False\n"
     ]
    }
   ],
   "source": [
    "print(1 not in a)"
   ]
  },
  {
   "cell_type": "code",
   "execution_count": 99,
   "id": "8f8f75c4",
   "metadata": {},
   "outputs": [
    {
     "name": "stdout",
     "output_type": "stream",
     "text": [
      "(1, 2, 3, 4, [9, 8, 7, 120])\n"
     ]
    }
   ],
   "source": [
    "t1=(1,2,3,4,[9,8,7])\n",
    "t1[4].append(120)\n",
    "print(t1)"
   ]
  },
  {
   "cell_type": "code",
   "execution_count": 102,
   "id": "c1c6b1fb",
   "metadata": {},
   "outputs": [
    {
     "ename": "AttributeError",
     "evalue": "'tuple' object has no attribute 'sort'",
     "output_type": "error",
     "traceback": [
      "\u001b[1;31m---------------------------------------------------------------------------\u001b[0m",
      "\u001b[1;31mAttributeError\u001b[0m                            Traceback (most recent call last)",
      "\u001b[1;32m<ipython-input-102-ec801d043319>\u001b[0m in \u001b[0;36m<module>\u001b[1;34m\u001b[0m\n\u001b[0;32m      1\u001b[0m \u001b[1;31m#sorting\u001b[0m\u001b[1;33m\u001b[0m\u001b[1;33m\u001b[0m\u001b[1;33m\u001b[0m\u001b[0m\n\u001b[1;32m----> 2\u001b[1;33m \u001b[0mt1\u001b[0m\u001b[1;33m.\u001b[0m\u001b[0msort\u001b[0m\u001b[1;33m(\u001b[0m\u001b[1;33m)\u001b[0m\u001b[1;33m\u001b[0m\u001b[1;33m\u001b[0m\u001b[0m\n\u001b[0m\u001b[0;32m      3\u001b[0m \u001b[0mprint\u001b[0m\u001b[1;33m(\u001b[0m\u001b[0mt1\u001b[0m\u001b[1;33m)\u001b[0m\u001b[1;33m\u001b[0m\u001b[1;33m\u001b[0m\u001b[0m\n",
      "\u001b[1;31mAttributeError\u001b[0m: 'tuple' object has no attribute 'sort'"
     ]
    }
   ],
   "source": [
    "#sorting\n",
    "t1.sort()\n",
    "print(t1)"
   ]
  },
  {
   "cell_type": "markdown",
   "id": "fee7e667",
   "metadata": {},
   "source": [
    "### DICTIONARY "
   ]
  },
  {
   "cell_type": "code",
   "execution_count": 103,
   "id": "19b4d220",
   "metadata": {},
   "outputs": [
    {
     "name": "stdout",
     "output_type": "stream",
     "text": [
      "{'ajay': 45, 'akilesh': 87, 'deepak': 34, 'jude': 99}\n"
     ]
    },
    {
     "data": {
      "text/plain": [
       "dict"
      ]
     },
     "execution_count": 103,
     "metadata": {},
     "output_type": "execute_result"
    }
   ],
   "source": [
    "age={\n",
    "    \"ajay\":45,\"akilesh\":87,\"deepak\":34,\"jude\":99\n",
    "}\n",
    "print(age)\n",
    "type(age)"
   ]
  },
  {
   "cell_type": "code",
   "execution_count": 104,
   "id": "2dd92080",
   "metadata": {},
   "outputs": [
    {
     "name": "stdout",
     "output_type": "stream",
     "text": [
      "{'ajay': 45, 'akilesh': 87, 'deepak': 34, 'jude': 99, 'riyen': 2}\n"
     ]
    }
   ],
   "source": [
    "#add element in dict\n",
    "age[\"riyen\"]=2\n",
    "print(age)"
   ]
  },
  {
   "cell_type": "code",
   "execution_count": 109,
   "id": "860eafe2",
   "metadata": {},
   "outputs": [
    {
     "ename": "KeyError",
     "evalue": "'riyen'",
     "output_type": "error",
     "traceback": [
      "\u001b[1;31m---------------------------------------------------------------------------\u001b[0m",
      "\u001b[1;31mKeyError\u001b[0m                                  Traceback (most recent call last)",
      "\u001b[1;32m<ipython-input-109-1277b8ce549f>\u001b[0m in \u001b[0;36m<module>\u001b[1;34m\u001b[0m\n\u001b[0;32m      1\u001b[0m \u001b[1;31m#delete the element in dict\u001b[0m\u001b[1;33m\u001b[0m\u001b[1;33m\u001b[0m\u001b[1;33m\u001b[0m\u001b[0m\n\u001b[1;32m----> 2\u001b[1;33m \u001b[1;32mdel\u001b[0m \u001b[0mage\u001b[0m\u001b[1;33m[\u001b[0m\u001b[1;34m'riyen'\u001b[0m\u001b[1;33m]\u001b[0m\u001b[1;33m\u001b[0m\u001b[1;33m\u001b[0m\u001b[0m\n\u001b[0m\u001b[0;32m      3\u001b[0m \u001b[0mprint\u001b[0m\u001b[1;33m(\u001b[0m\u001b[0mage\u001b[0m\u001b[1;33m)\u001b[0m\u001b[1;33m\u001b[0m\u001b[1;33m\u001b[0m\u001b[0m\n",
      "\u001b[1;31mKeyError\u001b[0m: 'riyen'"
     ]
    }
   ],
   "source": [
    "#delete the element in dict \n",
    "del age['riyen']\n",
    "print(age)"
   ]
  },
  {
   "cell_type": "code",
   "execution_count": 113,
   "id": "abfc1d12",
   "metadata": {},
   "outputs": [
    {
     "name": "stdout",
     "output_type": "stream",
     "text": [
      "{'can': 2, 'you': 1}\n",
      "{'can': 3, 'you': 1, 'a': 1}\n",
      "{'can': 3, 'you': 1, 'a': 2, 'as': 1}\n",
      "{'can': 4, 'you': 1, 'a': 2, 'as': 1, 'canner': 1}\n",
      "{'can': 5, 'you': 1, 'a': 2, 'as': 1, 'canner': 1}\n",
      "{'can': 5, 'you': 1, 'a': 3, 'as': 1, 'canner': 1}\n",
      "{'can': 6, 'you': 1, 'a': 3, 'as': 1, 'canner': 1}\n"
     ]
    }
   ],
   "source": [
    "twister=\"can you can a can as a canner can can a can\"\n",
    "#create a string variable \n",
    "word_count={}\n",
    "#initialise an empty dictionary object\n",
    "for word in twister.split():\n",
    "    if word not in word_count:\n",
    "        word_count[word]=1\n",
    "    else:\n",
    "            word_count[word]+=1\n",
    "            #frequency table for every word in the key value format \n",
    "            #print the output\n",
    "            print(word_count)"
   ]
  },
  {
   "cell_type": "code",
   "execution_count": 115,
   "id": "6b436eff",
   "metadata": {},
   "outputs": [
    {
     "ename": "KeyError",
     "evalue": "'can'",
     "output_type": "error",
     "traceback": [
      "\u001b[1;31m---------------------------------------------------------------------------\u001b[0m",
      "\u001b[1;31mKeyError\u001b[0m                                  Traceback (most recent call last)",
      "\u001b[1;32m<ipython-input-115-54d1c88b3a1d>\u001b[0m in \u001b[0;36m<module>\u001b[1;34m\u001b[0m\n\u001b[0;32m      4\u001b[0m \u001b[1;31m#we will performs a word count using dict object\u001b[0m\u001b[1;33m\u001b[0m\u001b[1;33m\u001b[0m\u001b[1;33m\u001b[0m\u001b[0m\n\u001b[0;32m      5\u001b[0m \u001b[1;32mfor\u001b[0m \u001b[0mword\u001b[0m \u001b[1;32min\u001b[0m \u001b[0mtwister\u001b[0m\u001b[1;33m.\u001b[0m\u001b[0msplit\u001b[0m\u001b[1;33m(\u001b[0m\u001b[1;33m)\u001b[0m\u001b[1;33m:\u001b[0m\u001b[1;33m\u001b[0m\u001b[1;33m\u001b[0m\u001b[0m\n\u001b[1;32m----> 6\u001b[1;33m     \u001b[0mword_count\u001b[0m\u001b[1;33m[\u001b[0m\u001b[0mword\u001b[0m\u001b[1;33m]\u001b[0m\u001b[1;33m+=\u001b[0m\u001b[1;36m1\u001b[0m\u001b[1;33m\u001b[0m\u001b[1;33m\u001b[0m\u001b[0m\n\u001b[0m\u001b[0;32m      7\u001b[0m \u001b[1;31m#print the output\u001b[0m\u001b[1;33m\u001b[0m\u001b[1;33m\u001b[0m\u001b[1;33m\u001b[0m\u001b[0m\n\u001b[0;32m      8\u001b[0m \u001b[0mprint\u001b[0m\u001b[1;33m(\u001b[0m\u001b[0mword_count\u001b[0m\u001b[1;33m)\u001b[0m\u001b[1;33m\u001b[0m\u001b[1;33m\u001b[0m\u001b[0m\n",
      "\u001b[1;31mKeyError\u001b[0m: 'can'"
     ]
    }
   ],
   "source": [
    "twister=\"can you can a can as a canner can can a can\"\n",
    "#create a string variable \n",
    "word_count={}\n",
    "#we will performs a word count using dict object\n",
    "for word in twister.split():\n",
    "    word_count[word]+=1\n",
    "#print the output\n",
    "print(word_count)\n"
   ]
  },
  {
   "cell_type": "code",
   "execution_count": 120,
   "id": "aaa95bf9",
   "metadata": {},
   "outputs": [
    {
     "name": "stdout",
     "output_type": "stream",
     "text": [
      "defaultdict(<class 'int'>, {'can': 2})\n",
      "defaultdict(<class 'int'>, {'can': 2, 'you': 1})\n",
      "defaultdict(<class 'int'>, {'can': 3, 'you': 1})\n",
      "defaultdict(<class 'int'>, {'can': 3, 'you': 1, 'a': 1})\n",
      "defaultdict(<class 'int'>, {'can': 4, 'you': 1, 'a': 1})\n",
      "defaultdict(<class 'int'>, {'can': 4, 'you': 1, 'a': 1, 'as': 1})\n",
      "defaultdict(<class 'int'>, {'can': 4, 'you': 1, 'a': 2, 'as': 1})\n",
      "defaultdict(<class 'int'>, {'can': 4, 'you': 1, 'a': 2, 'as': 1, 'canner': 1})\n",
      "defaultdict(<class 'int'>, {'can': 5, 'you': 1, 'a': 2, 'as': 1, 'canner': 1})\n",
      "defaultdict(<class 'int'>, {'can': 6, 'you': 1, 'a': 2, 'as': 1, 'canner': 1})\n",
      "defaultdict(<class 'int'>, {'can': 6, 'you': 1, 'a': 3, 'as': 1, 'canner': 1})\n",
      "defaultdict(<class 'int'>, {'can': 7, 'you': 1, 'a': 3, 'as': 1, 'canner': 1})\n",
      "defaultdict(<class 'int'>, {'can': 8, 'you': 2, 'a': 3, 'as': 1, 'canner': 1})\n",
      "defaultdict(<class 'int'>, {'can': 8, 'you': 3, 'a': 3, 'as': 1, 'canner': 1})\n",
      "defaultdict(<class 'int'>, {'can': 9, 'you': 3, 'a': 3, 'as': 1, 'canner': 1})\n",
      "defaultdict(<class 'int'>, {'can': 9, 'you': 3, 'a': 4, 'as': 1, 'canner': 1})\n",
      "defaultdict(<class 'int'>, {'can': 10, 'you': 3, 'a': 4, 'as': 1, 'canner': 1})\n",
      "defaultdict(<class 'int'>, {'can': 10, 'you': 3, 'a': 4, 'as': 2, 'canner': 1})\n",
      "defaultdict(<class 'int'>, {'can': 10, 'you': 3, 'a': 5, 'as': 2, 'canner': 1})\n",
      "defaultdict(<class 'int'>, {'can': 10, 'you': 3, 'a': 5, 'as': 2, 'canner': 2})\n",
      "defaultdict(<class 'int'>, {'can': 11, 'you': 3, 'a': 5, 'as': 2, 'canner': 2})\n",
      "defaultdict(<class 'int'>, {'can': 12, 'you': 3, 'a': 5, 'as': 2, 'canner': 2})\n",
      "defaultdict(<class 'int'>, {'can': 12, 'you': 3, 'a': 6, 'as': 2, 'canner': 2})\n",
      "defaultdict(<class 'int'>, {'can': 13, 'you': 3, 'a': 6, 'as': 2, 'canner': 2})\n",
      "defaultdict(<class 'int'>, {'can': 15, 'you': 3, 'a': 6, 'as': 2, 'canner': 2})\n",
      "defaultdict(<class 'int'>, {'can': 15, 'you': 4, 'a': 6, 'as': 2, 'canner': 2})\n",
      "defaultdict(<class 'int'>, {'can': 16, 'you': 4, 'a': 6, 'as': 2, 'canner': 2})\n",
      "defaultdict(<class 'int'>, {'can': 16, 'you': 4, 'a': 7, 'as': 2, 'canner': 2})\n",
      "defaultdict(<class 'int'>, {'can': 17, 'you': 4, 'a': 7, 'as': 2, 'canner': 2})\n",
      "defaultdict(<class 'int'>, {'can': 17, 'you': 4, 'a': 7, 'as': 3, 'canner': 2})\n",
      "defaultdict(<class 'int'>, {'can': 17, 'you': 4, 'a': 8, 'as': 3, 'canner': 2})\n",
      "defaultdict(<class 'int'>, {'can': 17, 'you': 4, 'a': 8, 'as': 3, 'canner': 3})\n",
      "defaultdict(<class 'int'>, {'can': 18, 'you': 4, 'a': 8, 'as': 3, 'canner': 3})\n",
      "defaultdict(<class 'int'>, {'can': 19, 'you': 4, 'a': 8, 'as': 3, 'canner': 3})\n",
      "defaultdict(<class 'int'>, {'can': 19, 'you': 4, 'a': 9, 'as': 3, 'canner': 3})\n",
      "defaultdict(<class 'int'>, {'can': 20, 'you': 4, 'a': 9, 'as': 3, 'canner': 3})\n",
      "defaultdict(<class 'int'>, {'can': 21, 'you': 4, 'a': 10, 'as': 3, 'canner': 3})\n",
      "defaultdict(<class 'int'>, {'can': 21, 'you': 5, 'a': 10, 'as': 3, 'canner': 3})\n",
      "defaultdict(<class 'int'>, {'can': 22, 'you': 5, 'a': 10, 'as': 3, 'canner': 3})\n",
      "defaultdict(<class 'int'>, {'can': 22, 'you': 5, 'a': 11, 'as': 3, 'canner': 3})\n",
      "defaultdict(<class 'int'>, {'can': 23, 'you': 5, 'a': 11, 'as': 3, 'canner': 3})\n",
      "defaultdict(<class 'int'>, {'can': 23, 'you': 5, 'a': 11, 'as': 4, 'canner': 3})\n",
      "defaultdict(<class 'int'>, {'can': 23, 'you': 5, 'a': 12, 'as': 4, 'canner': 3})\n",
      "defaultdict(<class 'int'>, {'can': 23, 'you': 5, 'a': 12, 'as': 4, 'canner': 4})\n",
      "defaultdict(<class 'int'>, {'can': 24, 'you': 5, 'a': 12, 'as': 4, 'canner': 4})\n",
      "defaultdict(<class 'int'>, {'can': 25, 'you': 5, 'a': 12, 'as': 4, 'canner': 4})\n",
      "defaultdict(<class 'int'>, {'can': 25, 'you': 5, 'a': 13, 'as': 4, 'canner': 4})\n",
      "defaultdict(<class 'int'>, {'can': 26, 'you': 5, 'a': 13, 'as': 4, 'canner': 4})\n",
      "defaultdict(<class 'int'>, {'can': 28, 'you': 5, 'a': 13, 'as': 4, 'canner': 4})\n",
      "defaultdict(<class 'int'>, {'can': 28, 'you': 6, 'a': 13, 'as': 4, 'canner': 4})\n",
      "defaultdict(<class 'int'>, {'can': 29, 'you': 6, 'a': 13, 'as': 4, 'canner': 4})\n",
      "defaultdict(<class 'int'>, {'can': 29, 'you': 6, 'a': 14, 'as': 4, 'canner': 4})\n",
      "defaultdict(<class 'int'>, {'can': 30, 'you': 6, 'a': 14, 'as': 4, 'canner': 4})\n",
      "defaultdict(<class 'int'>, {'can': 30, 'you': 6, 'a': 14, 'as': 5, 'canner': 4})\n",
      "defaultdict(<class 'int'>, {'can': 30, 'you': 6, 'a': 15, 'as': 5, 'canner': 4})\n",
      "defaultdict(<class 'int'>, {'can': 30, 'you': 6, 'a': 15, 'as': 5, 'canner': 5})\n",
      "defaultdict(<class 'int'>, {'can': 31, 'you': 6, 'a': 15, 'as': 5, 'canner': 5})\n",
      "defaultdict(<class 'int'>, {'can': 32, 'you': 6, 'a': 15, 'as': 5, 'canner': 5})\n",
      "defaultdict(<class 'int'>, {'can': 32, 'you': 6, 'a': 16, 'as': 5, 'canner': 5})\n",
      "defaultdict(<class 'int'>, {'can': 33, 'you': 6, 'a': 16, 'as': 5, 'canner': 5})\n",
      "defaultdict(<class 'int'>, {'can': 34, 'you': 6, 'a': 16, 'as': 6, 'canner': 5})\n",
      "defaultdict(<class 'int'>, {'can': 34, 'you': 7, 'a': 16, 'as': 6, 'canner': 5})\n",
      "defaultdict(<class 'int'>, {'can': 35, 'you': 7, 'a': 16, 'as': 6, 'canner': 5})\n",
      "defaultdict(<class 'int'>, {'can': 35, 'you': 7, 'a': 17, 'as': 6, 'canner': 5})\n",
      "defaultdict(<class 'int'>, {'can': 36, 'you': 7, 'a': 17, 'as': 6, 'canner': 5})\n",
      "defaultdict(<class 'int'>, {'can': 36, 'you': 7, 'a': 17, 'as': 7, 'canner': 5})\n",
      "defaultdict(<class 'int'>, {'can': 36, 'you': 7, 'a': 18, 'as': 7, 'canner': 5})\n",
      "defaultdict(<class 'int'>, {'can': 36, 'you': 7, 'a': 18, 'as': 7, 'canner': 6})\n",
      "defaultdict(<class 'int'>, {'can': 37, 'you': 7, 'a': 18, 'as': 7, 'canner': 6})\n",
      "defaultdict(<class 'int'>, {'can': 38, 'you': 7, 'a': 18, 'as': 7, 'canner': 6})\n",
      "defaultdict(<class 'int'>, {'can': 38, 'you': 7, 'a': 19, 'as': 7, 'canner': 6})\n",
      "defaultdict(<class 'int'>, {'can': 39, 'you': 7, 'a': 19, 'as': 7, 'canner': 6})\n",
      "defaultdict(<class 'int'>, {'can': 40, 'you': 7, 'a': 20, 'as': 7, 'canner': 6})\n",
      "defaultdict(<class 'int'>, {'can': 40, 'you': 8, 'a': 20, 'as': 7, 'canner': 6})\n",
      "defaultdict(<class 'int'>, {'can': 41, 'you': 8, 'a': 20, 'as': 7, 'canner': 6})\n",
      "defaultdict(<class 'int'>, {'can': 41, 'you': 8, 'a': 21, 'as': 7, 'canner': 6})\n",
      "defaultdict(<class 'int'>, {'can': 42, 'you': 8, 'a': 21, 'as': 7, 'canner': 6})\n",
      "defaultdict(<class 'int'>, {'can': 42, 'you': 8, 'a': 21, 'as': 8, 'canner': 6})\n",
      "defaultdict(<class 'int'>, {'can': 42, 'you': 8, 'a': 22, 'as': 8, 'canner': 6})\n",
      "defaultdict(<class 'int'>, {'can': 42, 'you': 8, 'a': 22, 'as': 8, 'canner': 7})\n",
      "defaultdict(<class 'int'>, {'can': 43, 'you': 8, 'a': 22, 'as': 8, 'canner': 7})\n",
      "defaultdict(<class 'int'>, {'can': 44, 'you': 8, 'a': 22, 'as': 8, 'canner': 7})\n",
      "defaultdict(<class 'int'>, {'can': 44, 'you': 8, 'a': 23, 'as': 8, 'canner': 7})\n",
      "defaultdict(<class 'int'>, {'can': 45, 'you': 8, 'a': 23, 'as': 8, 'canner': 7})\n",
      "defaultdict(<class 'int'>, {'can': 46, 'you': 8, 'a': 23, 'as': 8, 'canner': 8})\n",
      "defaultdict(<class 'int'>, {'can': 46, 'you': 9, 'a': 23, 'as': 8, 'canner': 8})\n",
      "defaultdict(<class 'int'>, {'can': 47, 'you': 9, 'a': 23, 'as': 8, 'canner': 8})\n",
      "defaultdict(<class 'int'>, {'can': 47, 'you': 9, 'a': 24, 'as': 8, 'canner': 8})\n",
      "defaultdict(<class 'int'>, {'can': 48, 'you': 9, 'a': 24, 'as': 8, 'canner': 8})\n",
      "defaultdict(<class 'int'>, {'can': 48, 'you': 9, 'a': 24, 'as': 9, 'canner': 8})\n",
      "defaultdict(<class 'int'>, {'can': 48, 'you': 9, 'a': 25, 'as': 9, 'canner': 8})\n",
      "defaultdict(<class 'int'>, {'can': 48, 'you': 9, 'a': 25, 'as': 9, 'canner': 9})\n",
      "defaultdict(<class 'int'>, {'can': 49, 'you': 9, 'a': 25, 'as': 9, 'canner': 9})\n",
      "defaultdict(<class 'int'>, {'can': 50, 'you': 9, 'a': 25, 'as': 9, 'canner': 9})\n",
      "defaultdict(<class 'int'>, {'can': 50, 'you': 9, 'a': 26, 'as': 9, 'canner': 9})\n",
      "defaultdict(<class 'int'>, {'can': 51, 'you': 9, 'a': 26, 'as': 9, 'canner': 9})\n",
      "defaultdict(<class 'int'>, {'can': 53, 'you': 9, 'a': 26, 'as': 9, 'canner': 9})\n",
      "defaultdict(<class 'int'>, {'can': 53, 'you': 10, 'a': 26, 'as': 9, 'canner': 9})\n",
      "defaultdict(<class 'int'>, {'can': 54, 'you': 10, 'a': 26, 'as': 9, 'canner': 9})\n",
      "defaultdict(<class 'int'>, {'can': 54, 'you': 10, 'a': 27, 'as': 9, 'canner': 9})\n",
      "defaultdict(<class 'int'>, {'can': 55, 'you': 10, 'a': 27, 'as': 9, 'canner': 9})\n",
      "defaultdict(<class 'int'>, {'can': 55, 'you': 10, 'a': 27, 'as': 10, 'canner': 9})\n",
      "defaultdict(<class 'int'>, {'can': 55, 'you': 10, 'a': 28, 'as': 10, 'canner': 9})\n",
      "defaultdict(<class 'int'>, {'can': 55, 'you': 10, 'a': 28, 'as': 10, 'canner': 10})\n",
      "defaultdict(<class 'int'>, {'can': 56, 'you': 10, 'a': 28, 'as': 10, 'canner': 10})\n",
      "defaultdict(<class 'int'>, {'can': 57, 'you': 10, 'a': 28, 'as': 10, 'canner': 10})\n",
      "defaultdict(<class 'int'>, {'can': 57, 'you': 10, 'a': 29, 'as': 10, 'canner': 10})\n",
      "defaultdict(<class 'int'>, {'can': 58, 'you': 10, 'a': 29, 'as': 10, 'canner': 10})\n",
      "defaultdict(<class 'int'>, {'can': 60, 'you': 10, 'a': 29, 'as': 10, 'canner': 10})\n",
      "defaultdict(<class 'int'>, {'can': 60, 'you': 11, 'a': 29, 'as': 10, 'canner': 10})\n",
      "defaultdict(<class 'int'>, {'can': 61, 'you': 11, 'a': 29, 'as': 10, 'canner': 10})\n",
      "defaultdict(<class 'int'>, {'can': 61, 'you': 11, 'a': 30, 'as': 10, 'canner': 10})\n",
      "defaultdict(<class 'int'>, {'can': 62, 'you': 11, 'a': 30, 'as': 10, 'canner': 10})\n",
      "defaultdict(<class 'int'>, {'can': 62, 'you': 11, 'a': 30, 'as': 11, 'canner': 10})\n",
      "defaultdict(<class 'int'>, {'can': 62, 'you': 11, 'a': 31, 'as': 11, 'canner': 10})\n",
      "defaultdict(<class 'int'>, {'can': 62, 'you': 11, 'a': 31, 'as': 11, 'canner': 11})\n",
      "defaultdict(<class 'int'>, {'can': 63, 'you': 11, 'a': 31, 'as': 11, 'canner': 11})\n",
      "defaultdict(<class 'int'>, {'can': 64, 'you': 11, 'a': 31, 'as': 11, 'canner': 11})\n",
      "defaultdict(<class 'int'>, {'can': 64, 'you': 11, 'a': 32, 'as': 11, 'canner': 11})\n",
      "defaultdict(<class 'int'>, {'can': 65, 'you': 11, 'a': 32, 'as': 11, 'canner': 11})\n",
      "defaultdict(<class 'int'>, {'can': 66, 'you': 11, 'a': 33, 'as': 11, 'canner': 11})\n",
      "defaultdict(<class 'int'>, {'can': 66, 'you': 12, 'a': 33, 'as': 11, 'canner': 11})\n",
      "defaultdict(<class 'int'>, {'can': 67, 'you': 12, 'a': 33, 'as': 11, 'canner': 11})\n",
      "defaultdict(<class 'int'>, {'can': 67, 'you': 12, 'a': 34, 'as': 11, 'canner': 11})\n",
      "defaultdict(<class 'int'>, {'can': 68, 'you': 12, 'a': 34, 'as': 11, 'canner': 11})\n",
      "defaultdict(<class 'int'>, {'can': 68, 'you': 12, 'a': 34, 'as': 12, 'canner': 11})\n",
      "defaultdict(<class 'int'>, {'can': 68, 'you': 12, 'a': 35, 'as': 12, 'canner': 11})\n",
      "defaultdict(<class 'int'>, {'can': 68, 'you': 12, 'a': 35, 'as': 12, 'canner': 12})\n",
      "defaultdict(<class 'int'>, {'can': 69, 'you': 12, 'a': 35, 'as': 12, 'canner': 12})\n",
      "defaultdict(<class 'int'>, {'can': 70, 'you': 12, 'a': 35, 'as': 12, 'canner': 12})\n",
      "defaultdict(<class 'int'>, {'can': 70, 'you': 12, 'a': 36, 'as': 12, 'canner': 12})\n",
      "defaultdict(<class 'int'>, {'can': 71, 'you': 12, 'a': 36, 'as': 12, 'canner': 12})\n",
      "defaultdict(<class 'int'>, {'can': 73, 'you': 12, 'a': 36, 'as': 12, 'canner': 12})\n",
      "defaultdict(<class 'int'>, {'can': 73, 'you': 13, 'a': 36, 'as': 12, 'canner': 12})\n",
      "defaultdict(<class 'int'>, {'can': 74, 'you': 13, 'a': 36, 'as': 12, 'canner': 12})\n",
      "defaultdict(<class 'int'>, {'can': 74, 'you': 13, 'a': 37, 'as': 12, 'canner': 12})\n",
      "defaultdict(<class 'int'>, {'can': 75, 'you': 13, 'a': 37, 'as': 12, 'canner': 12})\n",
      "defaultdict(<class 'int'>, {'can': 75, 'you': 13, 'a': 37, 'as': 13, 'canner': 12})\n",
      "defaultdict(<class 'int'>, {'can': 75, 'you': 13, 'a': 38, 'as': 13, 'canner': 12})\n",
      "defaultdict(<class 'int'>, {'can': 75, 'you': 13, 'a': 38, 'as': 13, 'canner': 13})\n",
      "defaultdict(<class 'int'>, {'can': 76, 'you': 13, 'a': 38, 'as': 13, 'canner': 13})\n",
      "defaultdict(<class 'int'>, {'can': 77, 'you': 13, 'a': 38, 'as': 13, 'canner': 13})\n",
      "defaultdict(<class 'int'>, {'can': 77, 'you': 13, 'a': 39, 'as': 13, 'canner': 13})\n",
      "defaultdict(<class 'int'>, {'can': 78, 'you': 13, 'a': 39, 'as': 13, 'canner': 13})\n"
     ]
    }
   ],
   "source": [
    "from collections import defaultdict\n",
    "twister1=\"can you can a can as a canner can can a can\"\n",
    "word_count=defaultdict(int)\n",
    "for word in twister1.split():\n",
    "    word_count[word]+=1\n",
    "    for word in twister1.split():\n",
    "        word_count[word]+=1\n",
    "        print(word_count)"
   ]
  },
  {
   "cell_type": "code",
   "execution_count": 125,
   "id": "e6d0f909",
   "metadata": {},
   "outputs": [
    {
     "name": "stdout",
     "output_type": "stream",
     "text": [
      "defaultdict(<class 'int'>, {'can': 6, 'you': 1, 'a': 3, 'as': 1, 'canner': 1})\n"
     ]
    }
   ],
   "source": [
    "from collections import defaultdict\n",
    "twister1=\"can you can a can as a canner can can a can\"\n",
    "word_count=defaultdict(int)\n",
    "for word in twister1.split():\n",
    "    word_count[word]+=1\n",
    "print(word_count)"
   ]
  },
  {
   "cell_type": "code",
   "execution_count": 126,
   "id": "e55f7981",
   "metadata": {},
   "outputs": [
    {
     "name": "stdout",
     "output_type": "stream",
     "text": [
      "can 6\n",
      "you 1\n",
      "a 3\n",
      "as 1\n",
      "canner 1\n"
     ]
    }
   ],
   "source": [
    "from collections import defaultdict\n",
    "twister1=\"can you can a can as a canner can can a can\"\n",
    "word_count=defaultdict(int)\n",
    "for word in twister1.split():\n",
    "    word_count[word]+=1\n",
    "for key,value in word_count.items():\n",
    "    print(key,value)"
   ]
  },
  {
   "cell_type": "code",
   "execution_count": 127,
   "id": "f9587342",
   "metadata": {},
   "outputs": [
    {
     "data": {
      "text/plain": [
       "3"
      ]
     },
     "execution_count": 127,
     "metadata": {},
     "output_type": "execute_result"
    }
   ],
   "source": [
    "items_purchased={'rice':2,'dhoor dhal':3,'sugar':4}\n",
    "len(items_purchased)"
   ]
  },
  {
   "cell_type": "code",
   "execution_count": 128,
   "id": "58cffd5a",
   "metadata": {},
   "outputs": [
    {
     "data": {
      "text/plain": [
       "\"{'rice': 2, 'dhoor dhal': 3, 'sugar': 4}\""
      ]
     },
     "execution_count": 128,
     "metadata": {},
     "output_type": "execute_result"
    }
   ],
   "source": [
    "#convert dict into printable string representation\n",
    "str(items_purchased)"
   ]
  },
  {
   "cell_type": "code",
   "execution_count": 129,
   "id": "d7bd9047",
   "metadata": {},
   "outputs": [
    {
     "data": {
      "text/plain": [
       "dict"
      ]
     },
     "execution_count": 129,
     "metadata": {},
     "output_type": "execute_result"
    }
   ],
   "source": [
    "type(items_purchased)"
   ]
  },
  {
   "cell_type": "code",
   "execution_count": 131,
   "id": "d0051c73",
   "metadata": {},
   "outputs": [
    {
     "data": {
      "text/plain": [
       "dict_keys(['rice', 'dhoor dhal', 'sugar'])"
      ]
     },
     "execution_count": 131,
     "metadata": {},
     "output_type": "execute_result"
    }
   ],
   "source": [
    "# keys are retreived\n",
    "items_purchased.keys()"
   ]
  },
  {
   "cell_type": "code",
   "execution_count": 132,
   "id": "8bebb1b9",
   "metadata": {},
   "outputs": [
    {
     "data": {
      "text/plain": [
       "dict_values([2, 3, 4])"
      ]
     },
     "execution_count": 132,
     "metadata": {},
     "output_type": "execute_result"
    }
   ],
   "source": [
    "#values are retreived\n",
    "items_purchased.values()"
   ]
  },
  {
   "cell_type": "code",
   "execution_count": null,
   "id": "1969801b",
   "metadata": {},
   "outputs": [],
   "source": [
    "#retreive for "
   ]
  },
  {
   "cell_type": "markdown",
   "id": "cefc0305",
   "metadata": {},
   "source": [
    "### LIST COMPREHENSION"
   ]
  },
  {
   "cell_type": "code",
   "execution_count": 133,
   "id": "ff534ed6",
   "metadata": {
    "scrolled": true
   },
   "outputs": [
    {
     "ename": "SyntaxError",
     "evalue": "invalid syntax (<ipython-input-133-6147c3cd2afd>, line 2)",
     "output_type": "error",
     "traceback": [
      "\u001b[1;36m  File \u001b[1;32m\"<ipython-input-133-6147c3cd2afd>\"\u001b[1;36m, line \u001b[1;32m2\u001b[0m\n\u001b[1;33m    values=[if a[0]>9 ]\u001b[0m\n\u001b[1;37m            ^\u001b[0m\n\u001b[1;31mSyntaxError\u001b[0m\u001b[1;31m:\u001b[0m invalid syntax\n"
     ]
    }
   ],
   "source": [
    "products=['apparels',]"
   ]
  },
  {
   "cell_type": "code",
   "execution_count": null,
   "id": "2bb1e658",
   "metadata": {},
   "outputs": [],
   "source": []
  }
 ],
 "metadata": {
  "kernelspec": {
   "display_name": "Python 3",
   "language": "python",
   "name": "python3"
  },
  "language_info": {
   "codemirror_mode": {
    "name": "ipython",
    "version": 3
   },
   "file_extension": ".py",
   "mimetype": "text/x-python",
   "name": "python",
   "nbconvert_exporter": "python",
   "pygments_lexer": "ipython3",
   "version": "3.8.8"
  }
 },
 "nbformat": 4,
 "nbformat_minor": 5
}
